{
 "cells": [
  {
   "cell_type": "code",
   "execution_count": 73,
   "id": "58ac782a",
   "metadata": {},
   "outputs": [
    {
     "data": {
      "text/html": [
       "<div>\n",
       "<style scoped>\n",
       "    .dataframe tbody tr th:only-of-type {\n",
       "        vertical-align: middle;\n",
       "    }\n",
       "\n",
       "    .dataframe tbody tr th {\n",
       "        vertical-align: top;\n",
       "    }\n",
       "\n",
       "    .dataframe thead th {\n",
       "        text-align: right;\n",
       "    }\n",
       "</style>\n",
       "<table border=\"1\" class=\"dataframe\">\n",
       "  <thead>\n",
       "    <tr style=\"text-align: right;\">\n",
       "      <th></th>\n",
       "      <th>R&amp;D Spend</th>\n",
       "      <th>Administration</th>\n",
       "      <th>Marketing Spend</th>\n",
       "      <th>State</th>\n",
       "      <th>Profit</th>\n",
       "    </tr>\n",
       "  </thead>\n",
       "  <tbody>\n",
       "    <tr>\n",
       "      <th>0</th>\n",
       "      <td>165349.20</td>\n",
       "      <td>136897.80</td>\n",
       "      <td>471784.10</td>\n",
       "      <td>New York</td>\n",
       "      <td>192261.83</td>\n",
       "    </tr>\n",
       "    <tr>\n",
       "      <th>1</th>\n",
       "      <td>162597.70</td>\n",
       "      <td>151377.59</td>\n",
       "      <td>443898.53</td>\n",
       "      <td>California</td>\n",
       "      <td>191792.06</td>\n",
       "    </tr>\n",
       "    <tr>\n",
       "      <th>2</th>\n",
       "      <td>153441.51</td>\n",
       "      <td>101145.55</td>\n",
       "      <td>407934.54</td>\n",
       "      <td>Florida</td>\n",
       "      <td>191050.39</td>\n",
       "    </tr>\n",
       "    <tr>\n",
       "      <th>3</th>\n",
       "      <td>144372.41</td>\n",
       "      <td>118671.85</td>\n",
       "      <td>383199.62</td>\n",
       "      <td>New York</td>\n",
       "      <td>182901.99</td>\n",
       "    </tr>\n",
       "    <tr>\n",
       "      <th>4</th>\n",
       "      <td>142107.34</td>\n",
       "      <td>91391.77</td>\n",
       "      <td>366168.42</td>\n",
       "      <td>Florida</td>\n",
       "      <td>166187.94</td>\n",
       "    </tr>\n",
       "  </tbody>\n",
       "</table>\n",
       "</div>"
      ],
      "text/plain": [
       "   R&D Spend  Administration  Marketing Spend       State     Profit\n",
       "0  165349.20       136897.80        471784.10    New York  192261.83\n",
       "1  162597.70       151377.59        443898.53  California  191792.06\n",
       "2  153441.51       101145.55        407934.54     Florida  191050.39\n",
       "3  144372.41       118671.85        383199.62    New York  182901.99\n",
       "4  142107.34        91391.77        366168.42     Florida  166187.94"
      ]
     },
     "execution_count": 73,
     "metadata": {},
     "output_type": "execute_result"
    }
   ],
   "source": [
    "import numpy as np\n",
    "import matplotlib.pyplot as plt\n",
    "import pandas as pd\n",
    " \n",
    "dataset = pd.read_csv('Startups.csv')\n",
    "dataset.head()"
   ]
  },
  {
   "cell_type": "code",
   "execution_count": 74,
   "id": "93bf87e7",
   "metadata": {},
   "outputs": [
    {
     "data": {
      "text/plain": [
       "array([[165349.2 ],\n",
       "       [162597.7 ],\n",
       "       [153441.51],\n",
       "       [144372.41],\n",
       "       [142107.34],\n",
       "       [131876.9 ],\n",
       "       [134615.46],\n",
       "       [130298.13],\n",
       "       [120542.52],\n",
       "       [123334.88],\n",
       "       [101913.08],\n",
       "       [100671.96],\n",
       "       [ 93863.75],\n",
       "       [ 91992.39],\n",
       "       [119943.24],\n",
       "       [114523.61],\n",
       "       [ 78013.11],\n",
       "       [ 94657.16],\n",
       "       [ 91749.16],\n",
       "       [ 86419.7 ],\n",
       "       [ 76253.86],\n",
       "       [ 78389.47],\n",
       "       [ 73994.56],\n",
       "       [ 67532.53],\n",
       "       [ 77044.01],\n",
       "       [ 64664.71],\n",
       "       [ 75328.87],\n",
       "       [ 72107.6 ],\n",
       "       [ 66051.52],\n",
       "       [ 65605.48],\n",
       "       [ 61994.48],\n",
       "       [ 61136.38],\n",
       "       [ 63408.86],\n",
       "       [ 55493.95],\n",
       "       [ 46426.07],\n",
       "       [ 46014.02],\n",
       "       [ 28663.76],\n",
       "       [ 44069.95],\n",
       "       [ 20229.59],\n",
       "       [ 38558.51],\n",
       "       [ 28754.33],\n",
       "       [ 27892.92],\n",
       "       [ 23640.93],\n",
       "       [ 15505.73],\n",
       "       [ 22177.74],\n",
       "       [  1000.23],\n",
       "       [  1315.46],\n",
       "       [     0.  ],\n",
       "       [   542.05],\n",
       "       [     0.  ]])"
      ]
     },
     "execution_count": 74,
     "metadata": {},
     "output_type": "execute_result"
    }
   ],
   "source": [
    "X = dataset.iloc[:,0:1].values  \n",
    "y = dataset.iloc[:,4].values\n",
    "X"
   ]
  },
  {
   "cell_type": "code",
   "execution_count": 82,
   "id": "af1fe1e0",
   "metadata": {},
   "outputs": [
    {
     "data": {
      "text/plain": [
       "LinearRegression()"
      ]
     },
     "execution_count": 82,
     "metadata": {},
     "output_type": "execute_result"
    }
   ],
   "source": [
    "#Fitting a Linear Regression Model\n",
    "#We are using this to compare the results of it with the polynomial regression.\n",
    "from sklearn.linear_model import LinearRegression\n",
    "lin_reg = LinearRegression()\n",
    "lin_reg.fit(X,y)"
   ]
  },
  {
   "cell_type": "code",
   "execution_count": 76,
   "id": "00e32b73",
   "metadata": {},
   "outputs": [
    {
     "data": {
      "image/png": "[encoded data removed]",
      "text/plain": [
       "<Figure size 432x288 with 1 Axes>"
      ]
     },
     "metadata": {
      "needs_background": "light"
     },
     "output_type": "display_data"
    }
   ],
   "source": [
    "plt.scatter(X,y, color='red')\n",
    "plt.plot(X, lin_reg.predict(X),color='blue')\n",
    "plt.title(\"Model(Linear)\")\n",
    "plt.xlabel('R&D Spend')\n",
    "plt.ylabel('Profit')\n",
    "plt.show()"
   ]
  },
  {
   "cell_type": "code",
   "execution_count": 100,
   "id": "735d78fc",
   "metadata": {},
   "outputs": [
    {
     "data": {
      "text/plain": [
       "array([[165349.2 ],\n",
       "       [162597.7 ],\n",
       "       [153441.51],\n",
       "       [144372.41],\n",
       "       [142107.34],\n",
       "       [131876.9 ],\n",
       "       [134615.46],\n",
       "       [130298.13],\n",
       "       [120542.52],\n",
       "       [123334.88],\n",
       "       [101913.08],\n",
       "       [100671.96],\n",
       "       [ 93863.75],\n",
       "       [ 91992.39],\n",
       "       [119943.24],\n",
       "       [114523.61],\n",
       "       [ 78013.11],\n",
       "       [ 94657.16],\n",
       "       [ 91749.16],\n",
       "       [ 86419.7 ],\n",
       "       [ 76253.86],\n",
       "       [ 78389.47],\n",
       "       [ 73994.56],\n",
       "       [ 67532.53],\n",
       "       [ 77044.01],\n",
       "       [ 64664.71],\n",
       "       [ 75328.87],\n",
       "       [ 72107.6 ],\n",
       "       [ 66051.52],\n",
       "       [ 65605.48],\n",
       "       [ 61994.48],\n",
       "       [ 61136.38],\n",
       "       [ 63408.86],\n",
       "       [ 55493.95],\n",
       "       [ 46426.07],\n",
       "       [ 46014.02],\n",
       "       [ 28663.76],\n",
       "       [ 44069.95],\n",
       "       [ 20229.59],\n",
       "       [ 38558.51],\n",
       "       [ 28754.33],\n",
       "       [ 27892.92],\n",
       "       [ 23640.93],\n",
       "       [ 15505.73],\n",
       "       [ 22177.74],\n",
       "       [  1000.23],\n",
       "       [  1315.46],\n",
       "       [     0.  ],\n",
       "       [   542.05],\n",
       "       [     0.  ]])"
      ]
     },
     "execution_count": 100,
     "metadata": {},
     "output_type": "execute_result"
    }
   ],
   "source": [
    "#Fitting a Polynomial Regression Model\n",
    "from sklearn.preprocessing import PolynomialFeatures\n",
    "poly_reg = PolynomialFeatures(degree=4)\n",
    "X_poly = poly_reg.fit_transform(X)\n",
    "poly_reg.fit(X_poly, y)\n",
    "X     # prints X"
   ]
  },
  {
   "cell_type": "code",
   "execution_count": 101,
   "id": "26fa810d",
   "metadata": {},
   "outputs": [
    {
     "data": {
      "text/plain": [
       "array([[1.00000000e+00, 1.65349200e+05, 2.73403579e+10, 4.52070631e+15,\n",
       "        7.47495172e+20],\n",
       "       [1.00000000e+00, 1.62597700e+05, 2.64380120e+10, 4.29875995e+15,\n",
       "        6.98968481e+20],\n",
       "       [1.00000000e+00, 1.53441510e+05, 2.35442970e+10, 3.61267248e+15,\n",
       "        5.54333921e+20],\n",
       "       [1.00000000e+00, 1.44372410e+05, 2.08433928e+10, 3.00921085e+15,\n",
       "        4.34447022e+20],\n",
       "       [1.00000000e+00, 1.42107340e+05, 2.01944961e+10, 2.86978612e+15,\n",
       "        4.07817672e+20],\n",
       "       [1.00000000e+00, 1.31876900e+05, 1.73915168e+10, 2.29353932e+15,\n",
       "        3.02464855e+20],\n",
       "       [1.00000000e+00, 1.34615460e+05, 1.81213221e+10, 2.43941011e+15,\n",
       "        3.28382314e+20],\n",
       "       [1.00000000e+00, 1.30298130e+05, 1.69776027e+10, 2.21214988e+15,\n",
       "        2.88238993e+20],\n",
       "       [1.00000000e+00, 1.20542520e+05, 1.45304991e+10, 1.75154298e+15,\n",
       "        2.11135405e+20],\n",
       "       [1.00000000e+00, 1.23334880e+05, 1.52114926e+10, 1.87610762e+15,\n",
       "        2.31389508e+20],\n",
       "       [1.00000000e+00, 1.01913080e+05, 1.03862759e+10, 1.05849736e+15,\n",
       "        1.07874727e+20],\n",
       "       [1.00000000e+00, 1.00671960e+05, 1.01348435e+10, 1.02029456e+15,\n",
       "        1.02715053e+20],\n",
       "       [1.00000000e+00, 9.38637500e+04, 8.81040356e+09, 8.26977518e+14,\n",
       "        7.76232110e+19],\n",
       "       [1.00000000e+00, 9.19923900e+04, 8.46259982e+09, 7.78494783e+14,\n",
       "        7.16155957e+19],\n",
       "       [1.00000000e+00, 1.19943240e+05, 1.43863808e+10, 1.72554913e+15,\n",
       "        2.06967953e+20],\n",
       "       [1.00000000e+00, 1.14523610e+05, 1.31156572e+10, 1.50205242e+15,\n",
       "        1.72020465e+20],\n",
       "       [1.00000000e+00, 7.80131100e+04, 6.08604533e+09, 4.74791324e+14,\n",
       "        3.70399478e+19],\n",
       "       [1.00000000e+00, 9.46571600e+04, 8.95997794e+09, 8.48126065e+14,\n",
       "        8.02812047e+19],\n",
       "       [1.00000000e+00, 9.17491600e+04, 8.41790836e+09, 7.72336021e+14,\n",
       "        7.08611812e+19],\n",
       "       [1.00000000e+00, 8.64197000e+04, 7.46836455e+09, 6.45413824e+14,\n",
       "        5.57764690e+19],\n",
       "       [1.00000000e+00, 7.62538600e+04, 5.81465116e+09, 4.43389596e+14,\n",
       "        3.38101682e+19],\n",
       "       [1.00000000e+00, 7.83894700e+04, 6.14490901e+09, 4.81696160e+14,\n",
       "        3.77599067e+19],\n",
       "       [1.00000000e+00, 7.39945600e+04, 5.47519491e+09, 4.05134638e+14,\n",
       "        2.99777593e+19],\n",
       "       [1.00000000e+00, 6.75325300e+04, 4.56064261e+09, 3.07991734e+14,\n",
       "        2.07994610e+19],\n",
       "       [1.00000000e+00, 7.70440100e+04, 5.93577948e+09, 4.57316253e+14,\n",
       "        3.52334780e+19],\n",
       "       [1.00000000e+00, 6.46647100e+04, 4.18152472e+09, 2.70397083e+14,\n",
       "        1.74851490e+19],\n",
       "       [1.00000000e+00, 7.53288700e+04, 5.67443866e+09, 4.27449052e+14,\n",
       "        3.21992541e+19],\n",
       "       [1.00000000e+00, 7.21076000e+04, 5.19950598e+09, 3.74923897e+14,\n",
       "        2.70348624e+19],\n",
       "       [1.00000000e+00, 6.60515200e+04, 4.36280329e+09, 2.88169789e+14,\n",
       "        1.90340526e+19],\n",
       "       [1.00000000e+00, 6.56054800e+04, 4.30407901e+09, 2.82371169e+14,\n",
       "        1.85250961e+19],\n",
       "       [1.00000000e+00, 6.19944800e+04, 3.84331555e+09, 2.38264349e+14,\n",
       "        1.47710744e+19],\n",
       "       [1.00000000e+00, 6.11363800e+04, 3.73765696e+09, 2.28506816e+14,\n",
       "        1.39700795e+19],\n",
       "       [1.00000000e+00, 6.34088600e+04, 4.02068353e+09, 2.54946959e+14,\n",
       "        1.61658960e+19],\n",
       "       [1.00000000e+00, 5.54939500e+04, 3.07957849e+09, 1.70897975e+14,\n",
       "        9.48380366e+18],\n",
       "       [1.00000000e+00, 4.64260700e+04, 2.15537998e+09, 1.00065822e+14,\n",
       "        4.64566284e+18],\n",
       "       [1.00000000e+00, 4.60140200e+04, 2.11729004e+09, 9.74250261e+13,\n",
       "        4.48291710e+18],\n",
       "       [1.00000000e+00, 2.86637600e+04, 8.21611137e+08, 2.35504645e+13,\n",
       "        6.75044861e+17],\n",
       "       [1.00000000e+00, 4.40699500e+04, 1.94216049e+09, 8.55909158e+13,\n",
       "        3.77198738e+18],\n",
       "       [1.00000000e+00, 2.02295900e+04, 4.09236312e+08, 8.27868280e+12,\n",
       "        1.67474359e+17],\n",
       "       [1.00000000e+00, 3.85585100e+04, 1.48675869e+09, 5.73271999e+13,\n",
       "        2.21045141e+18],\n",
       "       [1.00000000e+00, 2.87543300e+04, 8.26811494e+08, 2.37744105e+13,\n",
       "        6.83617246e+17],\n",
       "       [1.00000000e+00, 2.78929200e+04, 7.78014986e+08, 2.17011098e+13,\n",
       "        6.05307319e+17],\n",
       "       [1.00000000e+00, 2.36409300e+04, 5.58893571e+08, 1.32127638e+13,\n",
       "        3.12362024e+17],\n",
       "       [1.00000000e+00, 1.55057300e+04, 2.40427663e+08, 3.72800642e+12,\n",
       "        5.78054611e+16],\n",
       "       [1.00000000e+00, 2.21777400e+04, 4.91852152e+08, 1.09081691e+13,\n",
       "        2.41918539e+17],\n",
       "       [1.00000000e+00, 1.00023000e+03, 1.00046005e+06, 1.00069016e+09,\n",
       "        1.00092032e+12],\n",
       "       [1.00000000e+00, 1.31546000e+03, 1.73043501e+06, 2.27631804e+09,\n",
       "        2.99440533e+12],\n",
       "       [1.00000000e+00, 0.00000000e+00, 0.00000000e+00, 0.00000000e+00,\n",
       "        0.00000000e+00],\n",
       "       [1.00000000e+00, 5.42050000e+02, 2.93818202e+05, 1.59264157e+08,\n",
       "        8.63291361e+10],\n",
       "       [1.00000000e+00, 0.00000000e+00, 0.00000000e+00, 0.00000000e+00,\n",
       "        0.00000000e+00]])"
      ]
     },
     "execution_count": 101,
     "metadata": {},
     "output_type": "execute_result"
    }
   ],
   "source": [
    "X_poly     # prints the X_poly"
   ]
  },
  {
   "cell_type": "code",
   "execution_count": 102,
   "id": "0a670b1f",
   "metadata": {},
   "outputs": [
    {
     "data": {
      "text/plain": [
       "LinearRegression()"
      ]
     },
     "execution_count": 102,
     "metadata": {},
     "output_type": "execute_result"
    }
   ],
   "source": [
    "lin_reg2 = LinearRegression()\n",
    "lin_reg2.fit(X_poly,y)"
   ]
  },
  {
   "cell_type": "code",
   "execution_count": 103,
   "id": "fb3187db",
   "metadata": {},
   "outputs": [
    {
     "data": {
      "image/png": "[encoded data removed]",
      "text/plain": [
       "<Figure size 432x288 with 1 Axes>"
      ]
     },
     "metadata": {
      "needs_background": "light"
     },
     "output_type": "display_data"
    }
   ],
   "source": [
    "from sklearn.preprocessing import PolynomialFeatures\n",
    "poly_reg = PolynomialFeatures(degree=4)\n",
    "X_poly = poly_reg.fit_transform(X)\n",
    "lin_reg2 = LinearRegression()\n",
    "lin_reg2.fit(X_poly,y)\n",
    " \n",
    "X_grid = np.arange(min(X),max(X),0.1)\n",
    "X_grid = X_grid.reshape(len(X_grid),1) \n",
    "plt.scatter(X,y, color='red') \n",
    " \n",
    "plt.plot(X_grid, lin_reg2.predict(poly_reg.fit_transform(X_grid)),color='blue') \n",
    " \n",
    "plt.title(\"Model(Polynomial)\")\n",
    "plt.xlabel('R&D Spend')\n",
    "plt.ylabel('Profit')\n",
    "plt.show()"
   ]
  },
  {
   "cell_type": "code",
   "execution_count": 104,
   "id": "444705ae",
   "metadata": {},
   "outputs": [
    {
     "data": {
      "text/plain": [
       "array([113104.75196166])"
      ]
     },
     "execution_count": 104,
     "metadata": {},
     "output_type": "execute_result"
    }
   ],
   "source": [
    "#Predicting the result\n",
    "lin_reg.predict([[75000]])"
   ]
  },
  {
   "cell_type": "code",
   "execution_count": 105,
   "id": "880e5634",
   "metadata": {},
   "outputs": [
    {
     "data": {
      "text/plain": [
       "array([115224.25921901])"
      ]
     },
     "execution_count": 105,
     "metadata": {},
     "output_type": "execute_result"
    }
   ],
   "source": [
    "lin_reg2.predict(poly_reg.fit_transform([[75000]]))"
   ]
  },
  {
   "cell_type": "code",
   "execution_count": null,
   "id": "ae0719b8",
   "metadata": {},
   "outputs": [],
   "source": []
  }
 ],
 "metadata": {
  "kernelspec": {
   "display_name": "Python 3",
   "language": "python",
   "name": "python3"
  },
  "language_info": {
   "codemirror_mode": {
    "name": "ipython",
    "version": 3
   },
   "file_extension": ".py",
   "mimetype": "text/x-python",
   "name": "python",
   "nbconvert_exporter": "python",
   "pygments_lexer": "ipython3",
   "version": "3.8.8"
  }
 },
 "nbformat": 4,
 "nbformat_minor": 5
}
